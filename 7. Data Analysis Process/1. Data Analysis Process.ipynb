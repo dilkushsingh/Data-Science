{
 "cells": [
  {
   "cell_type": "markdown",
   "metadata": {},
   "source": [
    "# Data Analysis Process\n",
    "5 Main Steps\n",
    "1. Asking questions\n",
    "2. Data Wrangling\n",
    "3. Exploratory Data Analysis\n",
    "4. Drawing Conclusions\n",
    "5. Communicating Results\n",
    "\n",
    "`Note` - Data Analysis Process in iteractive and non linear process."
   ]
  },
  {
   "cell_type": "markdown",
   "metadata": {},
   "source": [
    "## Step 1: Asking Questions\n",
    "How can I ask better questions?\n",
    "- Subject Matter Expertise\n",
    "- Experience\n",
    "\n",
    "Examples.\n",
    "1. What features will contriubute to my analysis?  \n",
    "2. What features are not important for my analysis?  \n",
    "3. Which of the features have a strong correlation?  \n",
    "4. Do I need data preprocessing?  \n",
    "5. What kind of feature manipulation/engineering is required?"
   ]
  },
  {
   "cell_type": "markdown",
   "metadata": {},
   "source": [
    "## Step 2: Data Wrangling/Munging\n",
    "\n",
    "Data Wrangling/Munging is the process of transforming and mapping the data from one raw data form into another format with the intent of making it more appropriate and valuable for a variety of purposes such as analytics.\n",
    "\n",
    "#### Data Wrangling is consist of three steps:\n",
    "2a. Gathering Data  \n",
    "2b. Accessing Data  \n",
    "2c. Cleaning Data"
   ]
  },
  {
   "cell_type": "markdown",
   "metadata": {},
   "source": [
    "## Step 3: Exploratory Data Analysis\n",
    "\n",
    "Explore and Augment the Data\n",
    "\n",
    "#### EDA is consist of two steps:\n",
    "3a. Exploring Data  \n",
    "3b. Augmenting Data\n",
    "\n",
    "### 3a. Exploring Data\n",
    "1. Finding Correlation and Covariance\n",
    "2. Doing Univariate and Multivariate analysis\n",
    "3. Plotting Graphs(Data Viz.)\n",
    "\n",
    "\n",
    "### 3b. Augmenting Data\n",
    "1. Removing Outliers\n",
    "2. Merging Dataframes\n",
    "3. Feature Engineering"
   ]
  },
  {
   "cell_type": "markdown",
   "metadata": {},
   "source": [
    "## Step 4: Drawing Conclusions\n",
    "Conclusions can be drawn using various techniques:  \n",
    "\n",
    "4a. Machine Learning  \n",
    "4b. Inferential Statics  \n",
    "4c. Descriptive Statics  "
   ]
  },
  {
   "cell_type": "markdown",
   "metadata": {},
   "source": [
    "## Step 5: Communicating Results\n",
    "\n",
    "Outcomes can be shared via  \n",
    "\n",
    "5a. Reports  \n",
    "5b. PPTs\n",
    "5c. Blogs  \n",
    "5d. In person"
   ]
  },
  {
   "cell_type": "markdown",
   "metadata": {},
   "source": [
    "---------------------------------------------------------------------------------------------------------------------------------------------"
   ]
  }
 ],
 "metadata": {
  "language_info": {
   "name": "python"
  },
  "orig_nbformat": 4
 },
 "nbformat": 4,
 "nbformat_minor": 2
}
